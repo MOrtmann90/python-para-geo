{
  "nbformat": 4,
  "nbformat_minor": 0,
  "metadata": {
    "colab": {
      "provenance": []
    },
    "kernelspec": {
      "name": "python3",
      "display_name": "Python 3"
    },
    "language_info": {
      "name": "python"
    }
  },
  "cells": [
    {
      "cell_type": "markdown",
      "source": [
        "### Importando librerías"
      ],
      "metadata": {
        "id": "jJWqjFyEXIol"
      }
    },
    {
      "cell_type": "code",
      "execution_count": 1,
      "metadata": {
        "id": "LwcZiaBkWyTI"
      },
      "outputs": [],
      "source": [
        "# Importando librería Geopandas\n",
        "import geopandas as gpd\n",
        "\n",
        "# Instalar la librería mapclassify\n",
        "#!pip install mapclassify"
      ]
    },
    {
      "cell_type": "markdown",
      "source": [
        "### Importando datos"
      ],
      "metadata": {
        "id": "ybDkyiIvXMKs"
      }
    },
    {
      "cell_type": "code",
      "source": [
        "# Importando 'comercios.geojson' y creando un geodataframe\n",
        "comercios_puntos = gpd.read_file('/content/drive/MyDrive/Colab Notebooks/data/comercios.geojson')"
      ],
      "metadata": {
        "id": "SPAjMw4iW3Ca"
      },
      "execution_count": 2,
      "outputs": []
    },
    {
      "cell_type": "code",
      "source": [
        "# Explorando datos en el mapa\n",
        "comercios_puntos.explore()"
      ],
      "metadata": {
        "id": "c5h3BfjRa6fo"
      },
      "execution_count": null,
      "outputs": []
    },
    {
      "cell_type": "markdown",
      "source": [
        "### Unión de tablas"
      ],
      "metadata": {
        "id": "ZyVpinu9XNul"
      }
    },
    {
      "cell_type": "code",
      "source": [
        "# Importando 'comercios_datos.csv' y creando un geodataframe\n",
        "comercios_datos = gpd.read_file('/content/drive/MyDrive/Colab Notebooks/data/comercios_datos.csv')"
      ],
      "metadata": {
        "id": "-DEPHiMpXPqm"
      },
      "execution_count": 4,
      "outputs": []
    },
    {
      "cell_type": "code",
      "source": [
        "# Explorando los datos del geodataframe\n",
        "comercios_datos.head()"
      ],
      "metadata": {
        "id": "z_zJxWPIa1vw"
      },
      "execution_count": null,
      "outputs": []
    },
    {
      "cell_type": "code",
      "source": [
        "# Haciendo la unión de tablas\n",
        "comercios_puntos.merge(comercios_datos, left_on='id', right_on='id')"
      ],
      "metadata": {
        "id": "PeRGtIRTcGJZ"
      },
      "execution_count": null,
      "outputs": []
    },
    {
      "cell_type": "code",
      "source": [
        "# Almacenando el resultado en una variable\n",
        "comercios = comercios_puntos.merge(comercios_datos, left_on='id', right_on='id')"
      ],
      "metadata": {
        "id": "jw73Ctkkdx5Y"
      },
      "execution_count": 7,
      "outputs": []
    },
    {
      "cell_type": "code",
      "source": [
        "# Modificando el nombre de los campos. El orden de los campos es indistinto\n",
        "comercios = comercios.rename(columns={'id':'id',\n",
        "                                        'geometry_x':'geometry',\n",
        "                                        'nombre': 'Nombre',\n",
        "                                        'domicilio':'Dirección',\n",
        "                                        'nombre':'Comercio',\n",
        "                                        'actividad':'Actividad',\n",
        "                                        'descrubro':'Descripción',\n",
        "                                        'categoria':'Categoría'})"
      ],
      "metadata": {
        "id": "Tl29d5JGhOlV"
      },
      "execution_count": 8,
      "outputs": []
    },
    {
      "cell_type": "code",
      "source": [
        "# Explorando 'comercios' luego de renombrar los campos\n",
        "comercios.head()"
      ],
      "metadata": {
        "id": "HwsS4z09ibTW"
      },
      "execution_count": null,
      "outputs": []
    },
    {
      "cell_type": "code",
      "source": [
        "# Consultar el tipo de objeto que es 'comercios'\n",
        "type(comercios)"
      ],
      "metadata": {
        "id": "gVpOi6HijS95"
      },
      "execution_count": null,
      "outputs": []
    },
    {
      "cell_type": "code",
      "source": [
        "# Creando un nuevo geodataframe a partir de los datos de geometría del objeto 'comercios' en una variable auxiliar\n",
        "aux = gpd.GeoDataFrame(comercios, geometry='geometry')"
      ],
      "metadata": {
        "id": "6xVCvTELjpKY"
      },
      "execution_count": 11,
      "outputs": []
    },
    {
      "cell_type": "code",
      "source": [
        "# Verificando que 'aux' sea de tipo geodataframe\n",
        "type(aux)"
      ],
      "metadata": {
        "id": "WYc39j8pj7Du"
      },
      "execution_count": null,
      "outputs": []
    },
    {
      "cell_type": "code",
      "source": [
        "# Redefiniendo la variable 'comercios' de acuerdo al valor de 'aux'\n",
        "comercios = aux"
      ],
      "metadata": {
        "id": "NueCHTHPj9t1"
      },
      "execution_count": 13,
      "outputs": []
    },
    {
      "cell_type": "markdown",
      "source": [
        "Trabajando con CRS"
      ],
      "metadata": {
        "id": "uNB3i2MEfMU4"
      }
    },
    {
      "cell_type": "code",
      "source": [
        "# Consultando el CRS del geodataframe 'comercios'\n",
        "comercios.crs"
      ],
      "metadata": {
        "id": "lt5FaYDleICN"
      },
      "execution_count": null,
      "outputs": []
    },
    {
      "cell_type": "code",
      "source": [
        "# Reproyectando a PosGAr 2007 faja 5 (EPSG:5347)\n",
        "comercios_5347 = comercios.to_crs(epsg=5347)"
      ],
      "metadata": {
        "id": "Aqe8W08Dehez"
      },
      "execution_count": 15,
      "outputs": []
    },
    {
      "cell_type": "code",
      "source": [
        "comercios_5347.crs"
      ],
      "metadata": {
        "id": "M3T5NMgmevEi"
      },
      "execution_count": null,
      "outputs": []
    },
    {
      "cell_type": "code",
      "source": [
        "comercios_5347.explore()"
      ],
      "metadata": {
        "id": "5UGuCu4Ed-Ev"
      },
      "execution_count": null,
      "outputs": []
    },
    {
      "cell_type": "markdown",
      "source": [
        "### Creando y personalizando el mapa\n",
        "\n"
      ],
      "metadata": {
        "id": "zz0zqm-JXSTU"
      }
    },
    {
      "cell_type": "markdown",
      "source": [
        "Importando la librería Folium"
      ],
      "metadata": {
        "id": "Z48nCYOr9c7g"
      }
    },
    {
      "cell_type": "code",
      "source": [
        "import folium # Importando la librería Folium para acceder a más opciones de configuración sobre el mapa"
      ],
      "metadata": {
        "id": "OIOR7rVUm499"
      },
      "execution_count": 18,
      "outputs": []
    },
    {
      "cell_type": "markdown",
      "source": [
        "Creando geodataframe de la capa 'Circuitos electorales'"
      ],
      "metadata": {
        "id": "mLgTnUCH9d7I"
      }
    },
    {
      "cell_type": "code",
      "source": [
        "# Importar una nueva capa\n",
        "circuitos = gpd.read_file('/content/drive/MyDrive/Colab Notebooks/data/circuitos_electorales.shp', encoding='utf8') # Cuando llamo un shapefile, referenciar al archivo de extensión .shp"
      ],
      "metadata": {
        "id": "OF9rx8JnmJVx"
      },
      "execution_count": 19,
      "outputs": []
    },
    {
      "cell_type": "code",
      "source": [
        "# Exploramos los datos del geodataframe 'circuitos'\n",
        "circuitos.head()"
      ],
      "metadata": {
        "id": "EDvyuSIOrfi8"
      },
      "execution_count": null,
      "outputs": []
    },
    {
      "cell_type": "code",
      "source": [
        "# Creando el objeto 'mapa' a partir de explorar los datos del geodataframe 'circuitos'\n",
        "mapa = circuitos.explore(\n",
        "                        column='Nombre',                # Defino la columna por la cual se van a representar las geometrías\n",
        "                        name=\"Circuitos electorales\",   # Nombre representativo de la capa que estamos explorando\n",
        "                        legend=False                    # Desactivo la leyenda para que luego no se superponga con otras\n",
        "                    )\n",
        "mapa"
      ],
      "metadata": {
        "id": "Prky9r6dmYiQ"
      },
      "execution_count": null,
      "outputs": []
    },
    {
      "cell_type": "markdown",
      "source": [
        "Personalizando la visualización del geodataframe 'comercios_5347'"
      ],
      "metadata": {
        "id": "desRRpZk9Ih6"
      }
    },
    {
      "cell_type": "code",
      "source": [
        "comercios_5347.explore(\n",
        "                column='Categoría',                     # Define qué campo vamos a utilizar para categorizar los puntos\n",
        "                m=mapa,                                 # Agrega 'comercios_5347' al objeto 'mapa'\n",
        "                cmap=['green', '#2C2C2C', 'blue'],      # Define el color de los puntos por cada uno de los valores de 'Categoría'\n",
        "                marker_kwds=dict(radius=5, fill=True),  # Define el radio del punto y si debería incluir relleno\n",
        "                style_kwds=dict(                        # Agrega parámetros avanzados para la configuración de los puntos\n",
        "                    stroke=True,                          # Muestra el borde del marcador\n",
        "                     color='#232323',                     # Define el color del borde\n",
        "                     weight=0.7,                          # Define el ancho del borde\n",
        "                     opacity=1,                           # Define la opacidad del borde del marcador\n",
        "                     fillOpacity=0.85                     # Define la opacidad del relleno del marcador\n",
        "                    ),\n",
        "                name=\"Comercios\",                       # Nombre representativo de la capa que estamos explorando\n",
        "                tooltip=\"Categoría\",                    # Muestra el valor de 'Categoría' en el tooltip al pasar el cursor encima\n",
        "                popup=True,                             # Muestra las variables y sus valores al hacer click sobre cada punto\n",
        "            )"
      ],
      "metadata": {
        "id": "m8GSbmVyXRns"
      },
      "execution_count": null,
      "outputs": []
    },
    {
      "cell_type": "markdown",
      "source": [
        "Agregar una nueva capa de puntos al mapa"
      ],
      "metadata": {
        "id": "4ic3RrG5mGah"
      }
    },
    {
      "cell_type": "code",
      "source": [
        "# Importar una tercera capa\n",
        "centros_salud = gpd.read_file('/content/drive/MyDrive/Colab Notebooks/data/centros_salud.shp', encoding='utf8')"
      ],
      "metadata": {
        "id": "z3O1UI2S2lvu"
      },
      "execution_count": 23,
      "outputs": []
    },
    {
      "cell_type": "code",
      "source": [
        "centros_salud.explore(\n",
        "    m=mapa,                                     # Agrega la capa al objeto de nombre 'mapa'\n",
        "    color='red',                                # Le asigna el color 'red' a los puntos\n",
        "    marker_kwds=dict(radius=5, fill=True),      # Define el radio del punto y si debería incluir relleno\n",
        "    name=\"Centros de salud\",                    # Nombre representativo de la capa que estamos explorando\n",
        "    tooltip=\"Nombre\",                           # Muestra el valor de 'Nombre' en el tooltip al pasar el cursor encima\n",
        "    )"
      ],
      "metadata": {
        "id": "z1NBeZxv2w-F"
      },
      "execution_count": null,
      "outputs": []
    },
    {
      "cell_type": "code",
      "source": [
        "# Agregando un control de capas al mapa\n",
        "folium.LayerControl().add_to(mapa)\n",
        "mapa"
      ],
      "metadata": {
        "id": "uTcOXi20nBnN"
      },
      "execution_count": null,
      "outputs": []
    },
    {
      "cell_type": "markdown",
      "source": [
        "### Exportando en HTML"
      ],
      "metadata": {
        "id": "wu8qMgY-XVmj"
      }
    },
    {
      "cell_type": "code",
      "source": [
        "mapa.save(r\"mapa.html\")"
      ],
      "metadata": {
        "id": "UAghZm9jXXi1"
      },
      "execution_count": 26,
      "outputs": []
    }
  ]
}